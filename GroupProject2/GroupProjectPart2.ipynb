{
 "cells": [
  {
   "cell_type": "markdown",
   "metadata": {},
   "source": [
    "A soccer team is trying to keep track of what games they can increase their prices for. The goal of this business is to maximize profits from ticket sales throughout the season. This database has 5 entities. The first entity is called “Game”, with attributes of Game ID, Opponent ID, date ID and Game Time. Game ID is the primary key for this entity while Opponent ID and Date ID are two foreign keys. The second entity is “Tickets”. It is a dynamic table and it has ticket ID as the primary key, game ID as the foreign key. It also has seat number, status and price as the rest of the attributes. The third table is called “Opponent”, and it has opponent ID as the primary key. The rest of the attributes are record and rival. The fourth entity is “Date”. Its attributes are “Date ID (Primary Key), Temperature and Weather Type. The last table, which is also the dynamic table, keeps track of the transactions for the tickets. It has transaction ID as the primary key, ticket ID as the foreign key. It also has customer and purchase price as the rest of the attributes. Constraints:  A constraint for the number of tickets left being sold would be 10,000 as the stadium only has 10,000 seats. Also, one transaction can only purchase up to 10 tickets. \n",
    "<br>\n",
    "Relations: In this database, entity “Game” and “Tickets” are connected by the attribute “Game ID” One game can have tickets sold between 0 to 10000 as we mentioned above; while one ticket belongs to only one game. So in this case, it should be (1,1) on the “Game” side, and (0,10000) on the “Tickets” side. Entity “Game” and “Opponent”, The opponent ID will be connected to another one in a (1,1) case. The same logic applies to the entity “Game” and “Date” by the attribute “DateID”. Entities “Tickets” and “Transactions” are connected by the attribute “ticketID”. One ticket has only one transaction, but one transaction can have up to 10 tickets. So in this case the “Tickets” side will be a (1,10) case, while the transaction will be (1,1). \n",
    "![](images/Part2.png)\n"
   ]
  },
  {
   "cell_type": "code",
   "execution_count": null,
   "metadata": {},
   "outputs": [],
   "source": []
  }
 ],
 "metadata": {
  "kernelspec": {
   "display_name": "Python 3",
   "language": "python",
   "name": "python3"
  },
  "language_info": {
   "codemirror_mode": {
    "name": "ipython",
    "version": 3
   },
   "file_extension": ".py",
   "mimetype": "text/x-python",
   "name": "python",
   "nbconvert_exporter": "python",
   "pygments_lexer": "ipython3",
   "version": "3.7.3"
  }
 },
 "nbformat": 4,
 "nbformat_minor": 2
}
